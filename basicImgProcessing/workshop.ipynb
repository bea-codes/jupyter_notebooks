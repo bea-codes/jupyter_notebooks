{
 "cells": [
  {
   "cell_type": "markdown",
   "metadata": {},
   "source": [
    "# Transformações de imagens: operações básicas"
   ]
  },
  {
   "cell_type": "code",
   "execution_count": null,
   "metadata": {},
   "outputs": [],
   "source": [
    "import cv2 as cv\n",
    "import numpy as np\n",
    "from matplotlib import pyplot as plt"
   ]
  },
  {
   "cell_type": "code",
   "execution_count": null,
   "metadata": {},
   "outputs": [],
   "source": [
    "# Função para exibir imagem dentro do notebook.\n",
    "def exibir_imagem_plt(img):\n",
    "\timg = cv.cvtColor(img, cv.COLOR_BGR2RGB)\n",
    "\tplt.imshow(img)\n",
    "\tprint(f\"Dimensões da imagem: {img.shape[:2]}\")"
   ]
  },
  {
   "cell_type": "code",
   "execution_count": null,
   "metadata": {},
   "outputs": [],
   "source": [
    "# Exibindo a imagem externamente usando o OpenCv\n",
    "def exibir_imagem_cv(img):\n",
    "\tcv.imshow(\"IMAGE\", img)\n",
    "\tcv.waitKey(0)\n",
    "\tcv.destroyAllWindows()"
   ]
  },
  {
   "cell_type": "markdown",
   "metadata": {},
   "source": [
    "Lendo nossa imagem"
   ]
  },
  {
   "cell_type": "code",
   "execution_count": null,
   "metadata": {},
   "outputs": [],
   "source": [
    "img = cv.imread('earth.jpg')\n",
    "assert img is not None, 'arquivo não pode ser lido'"
   ]
  },
  {
   "cell_type": "code",
   "execution_count": null,
   "metadata": {},
   "outputs": [],
   "source": [
    "# Exibir a imagem usando o OpenCv\n",
    "exibir_imagem_cv(img)"
   ]
  },
  {
   "cell_type": "code",
   "execution_count": null,
   "metadata": {},
   "outputs": [],
   "source": [
    "# Exibir a imagem usando o Matplotlib\n",
    "exibir_imagem_plt(img)\n",
    "print(\"Imagem Original\")"
   ]
  },
  {
   "cell_type": "markdown",
   "metadata": {},
   "source": [
    "## Redimensionamento "
   ]
  },
  {
   "cell_type": "markdown",
   "metadata": {},
   "source": [
    "`cv.resize()` é uma função do OpenCv para realizar mudança de escala.\n",
    "Ela recebe os argumentos:\n",
    "- src: imagem de entrada\n",
    "- dsize: tamanho da imagem de saída\n",
    "- fx: fator de escala do eixo X\n",
    "- fy: fator de escala do eixo Y\n",
    "- interpolation: tipo de interpolação utilizada\n",
    "\n",
    "Valores possíveis para o argumento de `interpolation`:\n",
    "- `cv.INTER_LINEAR`\n",
    "- `cv.INTER_CUBIC`\n",
    "- `cv.INTER_AREA`"
   ]
  },
  {
   "cell_type": "code",
   "execution_count": null,
   "metadata": {},
   "outputs": [],
   "source": [
    "scale_percentage = 80\n",
    "o_heigth, o_width = img.shape[:2]\n",
    "mod_width = int(o_width * scale_percentage / 100)\n",
    "mod_heigth = int(o_heigth * scale_percentage / 100)\n",
    "mod_dim = (mod_width, mod_heigth)\n",
    "o_dim = (o_width, o_heigth)"
   ]
  },
  {
   "cell_type": "markdown",
   "metadata": {},
   "source": [
    "### Ampliação"
   ]
  },
  {
   "cell_type": "code",
   "execution_count": null,
   "metadata": {},
   "outputs": [],
   "source": [
    "upsized_img = cv.resize(img, mod_dim, interpolation=cv.INTER_AREA)"
   ]
  },
  {
   "cell_type": "code",
   "execution_count": null,
   "metadata": {},
   "outputs": [],
   "source": [
    "upsized_img = cv.resize(src=img, dsize=None, fx=2, fy=2, interpolation=cv.INTER_LINEAR)"
   ]
  },
  {
   "cell_type": "code",
   "execution_count": null,
   "metadata": {},
   "outputs": [],
   "source": [
    "exibir_imagem_plt(upsized_img)"
   ]
  },
  {
   "cell_type": "markdown",
   "metadata": {},
   "source": [
    "### Redução"
   ]
  },
  {
   "cell_type": "code",
   "execution_count": null,
   "metadata": {},
   "outputs": [],
   "source": [
    "downsized_img = cv.resize(img, mod_dim,interpolation=cv.INTER_AREA)"
   ]
  },
  {
   "cell_type": "code",
   "execution_count": null,
   "metadata": {},
   "outputs": [],
   "source": [
    "exibir_imagem_plt(downsized_img)"
   ]
  },
  {
   "cell_type": "markdown",
   "metadata": {},
   "source": [
    "## Translação"
   ]
  },
  {
   "cell_type": "code",
   "execution_count": null,
   "metadata": {},
   "outputs": [],
   "source": [
    "dog = cv.imread('./dog.jpg')\n",
    "assert dog is not None, 'arquivo não pode ser lido'"
   ]
  },
  {
   "cell_type": "code",
   "execution_count": null,
   "metadata": {},
   "outputs": [],
   "source": [
    "matriz_translacao = np.float64([[1,0,100], [0,1,50]])"
   ]
  },
  {
   "cell_type": "code",
   "execution_count": null,
   "metadata": {},
   "outputs": [],
   "source": [
    "translated_img = cv.warpAffine(dog, matriz_translacao, o_dim)"
   ]
  },
  {
   "cell_type": "code",
   "execution_count": null,
   "metadata": {},
   "outputs": [],
   "source": [
    "exibir_imagem_plt(translated_img)"
   ]
  },
  {
   "cell_type": "markdown",
   "metadata": {},
   "source": [
    "## Rotação\n"
   ]
  },
  {
   "cell_type": "code",
   "execution_count": null,
   "metadata": {},
   "outputs": [],
   "source": [
    "# Definindo parâmetros da matriz de rotação\n",
    "escala = 1\n",
    "centro = (o_width / 2, o_heigth / 2)"
   ]
  },
  {
   "cell_type": "code",
   "execution_count": null,
   "metadata": {},
   "outputs": [],
   "source": [
    "matriz_rotacao = cv.getRotationMatrix2D(centro, 180, escala)\n",
    "rotated_img = cv.warpAffine(img, matriz_rotacao, o_dim)"
   ]
  },
  {
   "cell_type": "markdown",
   "metadata": {},
   "source": [
    "O último argumento da função `cv.warpAffine()` está relacionado com as dimensões da imagem de saída."
   ]
  },
  {
   "cell_type": "code",
   "execution_count": null,
   "metadata": {},
   "outputs": [],
   "source": [
    "exibir_imagem_plt(rotated_img)"
   ]
  },
  {
   "cell_type": "markdown",
   "metadata": {},
   "source": [
    "## Espelhamento"
   ]
  },
  {
   "cell_type": "markdown",
   "metadata": {},
   "source": [
    "A função `cv.flip()` recebe dois argumentos:\n",
    "\n",
    "- a imagem\n",
    "- número inteiro representando a partir de qual eixo a imagem será espelhada:\n",
    "\t- 1 para espelhar horizontalmente\n",
    "\t- 0 para espelhar verticalmente"
   ]
  },
  {
   "cell_type": "code",
   "execution_count": null,
   "metadata": {},
   "outputs": [],
   "source": [
    "flipped_img = cv.flip(img, 1)\n",
    "exibir_imagem_plt(flipped_img)"
   ]
  },
  {
   "cell_type": "markdown",
   "metadata": {},
   "source": [
    "## Salvando uma imagem"
   ]
  },
  {
   "cell_type": "code",
   "execution_count": null,
   "metadata": {},
   "outputs": [],
   "source": [
    "new_dog = cv.imwrite('./new_dog.jpg', translated_img)\n",
    "new_earth = cv.imwrite('./new_earth.jpg', flipped_img)\n",
    "\n"
   ]
  }
 ],
 "metadata": {
  "kernelspec": {
   "display_name": "workshop",
   "language": "python",
   "name": "python3"
  },
  "language_info": {
   "codemirror_mode": {
    "name": "ipython",
    "version": 3
   },
   "file_extension": ".py",
   "mimetype": "text/x-python",
   "name": "python",
   "nbconvert_exporter": "python",
   "pygments_lexer": "ipython3",
   "version": "3.11.5"
  }
 },
 "nbformat": 4,
 "nbformat_minor": 2
}
